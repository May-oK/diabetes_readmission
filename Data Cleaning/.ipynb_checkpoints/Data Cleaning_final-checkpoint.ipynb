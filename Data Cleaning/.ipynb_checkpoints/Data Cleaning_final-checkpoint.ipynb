{
 "cells": [
  {
   "cell_type": "code",
   "execution_count": 3,
   "id": "47f4aba9",
   "metadata": {},
   "outputs": [],
   "source": [
    "import numpy as np\n",
    "import pandas as pd\n",
    "\n",
    "pd.set_option('display.max_columns', None)"
   ]
  },
  {
   "cell_type": "code",
   "execution_count": 44,
   "id": "364a72a7",
   "metadata": {},
   "outputs": [],
   "source": [
    "df_angela = pd.read_csv(\"cleaned_data_AJ.csv\")\n",
    "df_may = pd.read_csv(\"cleaned_columns_MK.csv\")"
   ]
  },
  {
   "cell_type": "markdown",
   "id": "c0b679d1",
   "metadata": {},
   "source": [
    "### Append cleaned datasets together"
   ]
  },
  {
   "cell_type": "code",
   "execution_count": 51,
   "id": "e4faf98c",
   "metadata": {},
   "outputs": [],
   "source": [
    "df_final = pd.merge(df_angela, df_may, on='Unnamed: 0')"
   ]
  },
  {
   "cell_type": "code",
   "execution_count": 52,
   "id": "1b0c3b47",
   "metadata": {},
   "outputs": [],
   "source": [
    "## Last-minute cleaning\n",
    "df_final[\"race\"] = df_final[\"race\"].replace('?',\"None\")\n",
    "df_final['age'] = df_final['age'].str.replace(r'\\[|\\)', '', regex=True)"
   ]
  },
  {
   "cell_type": "markdown",
   "id": "90340662",
   "metadata": {},
   "source": [
    "### Drop old columns"
   ]
  },
  {
   "cell_type": "code",
   "execution_count": 54,
   "id": "92218ad0",
   "metadata": {},
   "outputs": [],
   "source": [
    "med_columns = ['metformin', 'repaglinide', 'nateglinide', 'chlorpropamide',\n",
    "       'glimepiride', 'acetohexamide', 'glipizide', 'glyburide', 'tolbutamide',\n",
    "       'pioglitazone', 'rosiglitazone', 'acarbose', 'miglitol', 'troglitazone',\n",
    "       'tolazamide', \n",
    "#                'examide', 'citoglipton', \n",
    "               'insulin',\n",
    "       'glyburide-metformin', 'glipizide-metformin',\n",
    "       'glimepiride-pioglitazone', 'metformin-rosiglitazone',\n",
    "       'metformin-pioglitazone']\n",
    "discharge_columns = ['discharge_disposition_id']\n",
    "admission_columns = ['admission_type_id', 'admission_source_id']\n",
    "diagnosis_columns = ['diag_1', 'diag_2', 'diag_3']\n",
    "test_columns = ['max_glu_serum']\n",
    "change_columns = ['change', 'med_change_agg']"
   ]
  },
  {
   "cell_type": "code",
   "execution_count": 55,
   "id": "aefccaee",
   "metadata": {},
   "outputs": [],
   "source": [
    "columns_to_drop = med_columns + discharge_columns + admission_columns + diagnosis_columns + test_columns + change_columns\n",
    "df_final = df_final.drop(columns=columns_to_drop)"
   ]
  },
  {
   "cell_type": "code",
   "execution_count": 56,
   "id": "b689d10d",
   "metadata": {},
   "outputs": [],
   "source": [
    "df_final.to_csv(\"Final cleaned data.csv\")"
   ]
  }
 ],
 "metadata": {
  "kernelspec": {
   "display_name": "python3.9",
   "language": "python",
   "name": "python3.9"
  },
  "language_info": {
   "codemirror_mode": {
    "name": "ipython",
    "version": 3
   },
   "file_extension": ".py",
   "mimetype": "text/x-python",
   "name": "python",
   "nbconvert_exporter": "python",
   "pygments_lexer": "ipython3",
   "version": "3.9.0"
  }
 },
 "nbformat": 4,
 "nbformat_minor": 5
}
