{
 "cells": [
  {
   "cell_type": "code",
   "execution_count": 2,
   "id": "47f4aba9",
   "metadata": {},
   "outputs": [],
   "source": [
    "import numpy as np\n",
    "import pandas as pd\n",
    "\n",
    "pd.set_option('display.max_columns', None)"
   ]
  },
  {
   "cell_type": "code",
   "execution_count": 37,
   "id": "364a72a7",
   "metadata": {},
   "outputs": [],
   "source": [
    "df_angela = pd.read_csv(\"Input/cleaned_data_AJ_v2.csv\")\n",
    "df_may = pd.read_csv(\"Input/cleaned_columns_MK_v2.csv\")"
   ]
  },
  {
   "cell_type": "markdown",
   "id": "c0b679d1",
   "metadata": {},
   "source": [
    "### Append cleaned datasets together"
   ]
  },
  {
   "cell_type": "code",
   "execution_count": 64,
   "id": "e4faf98c",
   "metadata": {},
   "outputs": [],
   "source": [
    "df_final = pd.merge(df_angela, df_may, on='Unnamed: 0')"
   ]
  },
  {
   "cell_type": "code",
   "execution_count": 65,
   "id": "1b0c3b47",
   "metadata": {},
   "outputs": [],
   "source": [
    "## Final cleaning\n",
    "\n",
    "# Replace the 'age' column values with their corresponding medians\n",
    "df_final['age'] = df_final['age'].str.replace(r'\\[|\\)', '', regex=True)\n",
    "age_range_mapping = {\n",
    "    '0-10': 5,\n",
    "    '10-20': 15,\n",
    "    '20-30': 25,\n",
    "    '30-40': 35,\n",
    "    '40-50': 45,\n",
    "    '50-60': 55,\n",
    "    '60-70': 65,\n",
    "    '70-80': 75,\n",
    "    '80-90': 85,\n",
    "    '90-100': 95\n",
    "}\n",
    "df_final['age'] = df_final['age'].map(age_range_mapping)\n",
    "\n",
    "# Drop rows where discharge is death/hospice (cannot be readmitted): discharge_code = 11, 13, 14, 19, 20, 21\n",
    "df_final = df_final[~df_final['discharge_disposition_id'].isin([11, 13, 14, 19, 20, 21])]\n",
    "\n",
    "# Drop rows where gender is unknown\n",
    "df_final = df_final[df_final['gender'] != 'Unknown/Invalid']\n",
    "\n",
    "## Standardize missing values notation\n",
    "df_final.replace([\"?\", \"None\"], [None, None], inplace=True)"
   ]
  },
  {
   "cell_type": "markdown",
   "id": "90340662",
   "metadata": {},
   "source": [
    "### Drop old columns"
   ]
  },
  {
   "cell_type": "code",
   "execution_count": 68,
   "id": "92218ad0",
   "metadata": {},
   "outputs": [],
   "source": [
    "# med_columns = ['metformin', 'repaglinide', 'nateglinide', 'chlorpropamide',\n",
    "#        'glimepiride', \n",
    "# #               'acetohexamide', \n",
    "#                'glipizide', 'glyburide', 'tolbutamide',\n",
    "#        'pioglitazone', 'rosiglitazone', 'acarbose', 'miglitol', \n",
    "# #               'troglitazone',\n",
    "#        'tolazamide', \n",
    "# #                'examide', 'citoglipton', \n",
    "#                'insulin',\n",
    "#        'glyburide-metformin', 'glipizide-metformin',\n",
    "# #       'glimepiride-pioglitazone', 'metformin-rosiglitazone','metformin-pioglitazone'\n",
    "#               ]\n",
    "med_columns=[]\n",
    "\n",
    "discharge_columns = ['discharge_disposition_id']\n",
    "admission_columns = ['admission_type_id', 'admission_source_id']\n",
    "diagnosis_columns = ['diag_1', 'diag_2', 'diag_3']\n",
    "test_columns = ['max_glu_serum']\n",
    "change_columns = ['change', 'med_change_agg']"
   ]
  },
  {
   "cell_type": "code",
   "execution_count": 69,
   "id": "aefccaee",
   "metadata": {},
   "outputs": [],
   "source": [
    "columns_to_drop = med_columns + discharge_columns + admission_columns + diagnosis_columns + test_columns + change_columns\n",
    "df_final = df_final.drop(columns=columns_to_drop)"
   ]
  },
  {
   "cell_type": "code",
   "execution_count": 70,
   "id": "b689d10d",
   "metadata": {},
   "outputs": [],
   "source": [
    "df_final.to_csv(\"Final cleaned data.csv\")"
   ]
  }
 ],
 "metadata": {
  "kernelspec": {
   "display_name": "python3.9",
   "language": "python",
   "name": "python3.9"
  },
  "language_info": {
   "codemirror_mode": {
    "name": "ipython",
    "version": 3
   },
   "file_extension": ".py",
   "mimetype": "text/x-python",
   "name": "python",
   "nbconvert_exporter": "python",
   "pygments_lexer": "ipython3",
   "version": "3.9.0"
  }
 },
 "nbformat": 4,
 "nbformat_minor": 5
}
