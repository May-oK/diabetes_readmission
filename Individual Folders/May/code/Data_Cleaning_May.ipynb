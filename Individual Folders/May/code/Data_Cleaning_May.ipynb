{
 "cells": [
  {
   "cell_type": "code",
   "execution_count": 229,
   "id": "d776b066-0cb7-438a-b29b-47e67fea2206",
   "metadata": {},
   "outputs": [],
   "source": [
    "import pandas as pd\n",
    "import numpy as np"
   ]
  },
  {
   "cell_type": "code",
   "execution_count": 256,
   "id": "46451f3b-502f-416c-917b-9fadf15facdb",
   "metadata": {},
   "outputs": [
    {
     "data": {
      "text/plain": [
       "Index(['encounter_id', 'patient_nbr', 'race', 'gender', 'age', 'weight',\n",
       "       'admission_type_id', 'discharge_disposition_id', 'admission_source_id',\n",
       "       'time_in_hospital', 'payer_code', 'medical_specialty',\n",
       "       'num_lab_procedures', 'num_procedures', 'num_medications',\n",
       "       'number_outpatient', 'number_emergency', 'number_inpatient', 'diag_1',\n",
       "       'diag_2', 'diag_3', 'number_diagnoses', 'max_glu_serum', 'A1Cresult',\n",
       "       'metformin', 'repaglinide', 'nateglinide', 'chlorpropamide',\n",
       "       'glimepiride', 'acetohexamide', 'glipizide', 'glyburide', 'tolbutamide',\n",
       "       'pioglitazone', 'rosiglitazone', 'acarbose', 'miglitol', 'troglitazone',\n",
       "       'tolazamide', 'examide', 'citoglipton', 'insulin',\n",
       "       'glyburide-metformin', 'glipizide-metformin',\n",
       "       'glimepiride-pioglitazone', 'metformin-rosiglitazone',\n",
       "       'metformin-pioglitazone', 'change', 'diabetesMed', 'readmitted'],\n",
       "      dtype='object')"
      ]
     },
     "execution_count": 256,
     "metadata": {},
     "output_type": "execute_result"
    }
   ],
   "source": [
    "df = pd.read_csv(\"diabetic_data.csv\")\n",
    "ids = pd.read_csv(\"IDS_mapping.csv\")\n",
    "df.columns"
   ]
  },
  {
   "cell_type": "code",
   "execution_count": 257,
   "id": "d0abe769-20d4-4361-bcbd-6538dc57dc17",
   "metadata": {},
   "outputs": [
    {
     "data": {
      "text/plain": [
       "array([ 1,  3,  2,  4,  5, 13, 12,  9,  7, 10,  6, 11,  8, 14])"
      ]
     },
     "execution_count": 257,
     "metadata": {},
     "output_type": "execute_result"
    }
   ],
   "source": [
    "df[\"time_in_hospital\"].unique()"
   ]
  },
  {
   "cell_type": "code",
   "execution_count": 258,
   "id": "0564f592-cfc9-46df-84b3-afbc1eade6c1",
   "metadata": {},
   "outputs": [
    {
     "data": {
      "text/plain": [
       "717"
      ]
     },
     "execution_count": 258,
     "metadata": {},
     "output_type": "execute_result"
    }
   ],
   "source": [
    "df[\"diag_1\"].nunique()"
   ]
  },
  {
   "cell_type": "markdown",
   "id": "b1596c2f-74e9-46cb-b788-607c2bd548c1",
   "metadata": {},
   "source": [
    "## 1. Group Diagnosis Categories"
   ]
  },
  {
   "cell_type": "markdown",
   "id": "b93501e4-ed2a-438e-84e3-020698430dfe",
   "metadata": {},
   "source": [
    "#### ICD-9 categories \n",
    "\n",
    "0 : Invalid or Other\n",
    "\n",
    "1 : Infectious and Parasitic Diseases\n",
    "\n",
    "2 : Neoplasms\n",
    "\n",
    "3 : Endocrine, Nutritional, Metabolic Diseases, and Immunity Disorders\n",
    "\n",
    "4 : Diseases of the Blood and Blood-forming Organs\n",
    "\n",
    "5 : Mental Disorders\n",
    "\n",
    "6 : Diseases of the Nervous System and Sense Organs\n",
    "\n",
    "7 : Diseases of the Circulatory System\n",
    "\n",
    "8 : Diseases of the Respiratory System\n",
    "\n",
    "9 : Diseases of the Digestive System\n",
    "\n",
    "10 : Diseases of the Genitourinary System\n",
    "\n",
    "11 : Complications of Pregnancy, Childbirth, and the Puerperium\n",
    "\n",
    "12 : Diseases of the Skin and Subcutaneous Tissue\n",
    "\n",
    "13 : Diseases of the Musculoskeletal System and Connective Tissue\n",
    "\n",
    "14 : Congenital Anomalies\n",
    "\n",
    "15 : Certain Conditions Originating in the Perinatal Period\n",
    "\n",
    "16 : Symptoms, Signs, and Ill-defined Conditions\n",
    "\n",
    "17 : Injury and Poisoning\n",
    "\n",
    "18 : V-codes (where a patient is seeking health services but is not currently sick)\n"
   ]
  },
  {
   "cell_type": "code",
   "execution_count": 259,
   "id": "3efec939-c931-482d-a471-99bc48ec9a82",
   "metadata": {},
   "outputs": [
    {
     "data": {
      "text/plain": [
       "array(['250.83', '276', '648', '8', '197', '414', '428', '398', '434',\n",
       "       '250.7', '157', '518', '999', '410', '682', '402', '737', '572',\n",
       "       'V57', '189', '786', '427', '996', '277', '584', '462', '473',\n",
       "       '411', '174', '486', '998', '511', '432', '626', '295', '196',\n",
       "       '250.6', '618', '182', '845', '423', '808', '250.4', '722', '403',\n",
       "       '250.11', '784', '707', '440', '151', '715', '997', '198', '564',\n",
       "       '812', '38', '590', '556', '578', '250.32', '433', 'V58', '569',\n",
       "       '185', '536', '255', '250.13', '599', '558', '574', '491', '560',\n",
       "       '244', '250.03', '577', '730', '188', '824', '250.8', '332', '562',\n",
       "       '291', '296', '510', '401', '263', '438', '70', '250.02', '493',\n",
       "       '642', '625', '571', '738', '593', '250.42', '807', '456', '446',\n",
       "       '575', '250.41', '820', '515', '780', '250.22', '995', '235',\n",
       "       '250.82', '721', '787', '162', '724', '282', '514', 'V55', '281',\n",
       "       '250.33', '530', '466', '435', '250.12', 'V53', '789', '566',\n",
       "       '822', '191', '557', '733', '455', '711', '482', '202', '280',\n",
       "       '553', '225', '154', '441', '250.81', '349', '?', '962', '592',\n",
       "       '507', '386', '156', '200', '728', '348', '459', '426', '388',\n",
       "       '607', '337', '82', '531', '596', '288', '656', '573', '492',\n",
       "       '220', '516', '210', '922', '286', '885', '958', '661', '969',\n",
       "       '250.93', '227', '112', '404', '823', '532', '416', '346', '535',\n",
       "       '453', '250', '595', '211', '303', '250.01', '852', '218', '782',\n",
       "       '540', '457', '285', '431', '340', '550', '54', '351', '601',\n",
       "       '723', '555', '153', '443', '380', '204', '424', '241', '358',\n",
       "       '694', '331', '345', '681', '447', '290', '158', '579', '436',\n",
       "       '335', '309', '654', '805', '799', '292', '183', '78', '851',\n",
       "       '458', '586', '311', '892', '305', '293', '415', '591', '794',\n",
       "       '803', '79', '655', '429', '278', '658', '598', '729', '585',\n",
       "       '444', '604', '727', '214', '552', '284', '680', '708', '41',\n",
       "       '644', '481', '821', '413', '437', '968', '756', '632', '359',\n",
       "       '275', '512', '781', '420', '368', '522', '294', '825', '135',\n",
       "       '304', '320', '250.31', '669', '868', '496', '250.43', '826',\n",
       "       '567', '3', '203', '53', '251', '565', '161', '495', '49', '250.1',\n",
       "       '297', '663', '576', '355', '850', '287', '250.2', '611', '840',\n",
       "       '350', '726', '537', '620', '180', '366', '783', '11', '751',\n",
       "       '716', '250.3', '199', '464', '580', '836', '664', '283', '813',\n",
       "       '966', '289', '965', '184', '480', '608', '333', '972', '212',\n",
       "       '117', '788', '924', '959', '621', '238', '785', '714', '942',\n",
       "       '250.23', '710', '47', '933', '508', '478', '844', '7', '736',\n",
       "       '233', '42', '250.5', '397', '395', '201', '421', '253', '250.92',\n",
       "       '600', '494', '977', '39', '659', '312', '614', '647', '652',\n",
       "       '646', '274', '861', '425', '527', '451', '485', '217', '250.53',\n",
       "       '442', '970', '193', '160', '322', '581', '475', '623', '374',\n",
       "       '582', '568', '465', '801', '237', '376', '150', '461', '913',\n",
       "       '226', '617', '987', '641', '298', '790', '336', '362', '228',\n",
       "       '513', '383', '746', '353', '911', '506', '873', '155', '860',\n",
       "       '534', '802', '141', 'V45', '396', '310', '341', '242', '719',\n",
       "       '239', '533', '616', '519', '301', 'V66', '5', '989', '230', '385',\n",
       "       '300', '853', '871', '570', '848', '463', '9', '934', '250.21',\n",
       "       '236', '361', '594', '501', '810', '643', '430', '528', '205',\n",
       "       '791', '983', '992', '490', '172', '171', '622', '306', '863',\n",
       "       '864', '474', '660', '759', '356', '634', '967', '551', '695',\n",
       "       '187', '732', '747', '323', '308', '370', '252', '152', '846',\n",
       "       '164', '365', '718', '48', '266', '720', '94', '344', '797', '170',\n",
       "       '878', '904', 'V56', '882', '843', '709', '973', '454', '686',\n",
       "       '939', '487', '229', '991', '483', '357', '692', '796', '693',\n",
       "       '935', '936', '800', '920', 'V26', '261', '307', '262', '250.9',\n",
       "       '831', '145', '223', 'V71', '839', '685', 'V54', '35', '34', '179',\n",
       "       '964', '136', '324', '389', '815', '334', '143', '526', '588',\n",
       "       '192', 'V67', '394', '917', '88', '219', '325', '792', '717',\n",
       "       '994', '990', '793', '207', '637', '195', '373', '847', '827',\n",
       "       '31', '891', '814', 'V60', '703', '865', '352', '627', '378',\n",
       "       '342', '886', '369', '745', '705', '816', '541', '986', '610',\n",
       "       '633', '640', '753', '173', '835', '379', '445', '272', '382',\n",
       "       '945', '619', '881', '250.52', '866', '405', '916', '215', '893',\n",
       "       '75', '671', '928', '906', '897', '725', '867', '115', '890',\n",
       "       '734', '521', '674', '470', '834', '146', '696', '524', '980',\n",
       "       '691', '384', '142', '879', '250.51', '246', '208', '448', '955',\n",
       "       '653', '149', '245', '735', '883', '854', '952', '838', '194',\n",
       "       'V43', '163', '216', '147', '354', '27', '477', '318', '880',\n",
       "       '921', '377', '471', '683', '175', '602', '250.91', '982', '706',\n",
       "       '375', '417', '131', '347', '870', '148', '862', '61', '817',\n",
       "       '914', '360', '684', '314', 'V63', '36', '57', '240', '915', '971',\n",
       "       '795', '988', '452', '963', '327', '731', '842', 'V25', '645',\n",
       "       '665', '110', '944', '603', '923', '412', '363', '957', '976',\n",
       "       '698', '299', '700', '273', '974', '97', '529', '66', '98', '605',\n",
       "       '941', '52', '806', '84', '271', '837', '657', '895', '338', '523',\n",
       "       '542', '114', '543', '372', 'V70', 'E909', '583', 'V07', '422',\n",
       "       '615', '279', '500', '903', '919', '875', '381', '804', '704',\n",
       "       '23', '58', '649', '832', '133', '975', '833', '391', '690', '10',\n",
       "       'V51'], dtype=object)"
      ]
     },
     "execution_count": 259,
     "metadata": {},
     "output_type": "execute_result"
    }
   ],
   "source": [
    "df[\"diag_1\"].unique()"
   ]
  },
  {
   "cell_type": "code",
   "execution_count": 260,
   "id": "a5f0fc4c-86b6-4c37-8f9d-14474461f98c",
   "metadata": {},
   "outputs": [],
   "source": [
    "def categorize_icd9(code):\n",
    "\n",
    "    if code == '?':\n",
    "        return \"None\"\n",
    "\n",
    "     # Category for V-codes\n",
    "    if code.startswith('V') or code.startswith('v'):\n",
    "        return 18  \n",
    "    # Category for E-codes\n",
    "    elif code.startswith('E') or code.startswith('e'):\n",
    "        return 17  \n",
    "\n",
    "    try:\n",
    "        code_int = int(float(code))\n",
    "            \n",
    "        # Categorize based on integer value\n",
    "        if 1 <= code_int <= 139:\n",
    "            return 1\n",
    "        elif 140 <= code_int <= 239:\n",
    "            return 2\n",
    "        elif 240 <= code_int <= 279:\n",
    "            return 3\n",
    "        elif 280 <= code_int <= 289:\n",
    "            return 4\n",
    "        elif 290 <= code_int <= 319:\n",
    "            return 5\n",
    "        elif 320 <= code_int <= 389:\n",
    "            return 6\n",
    "        elif 390 <= code_int <= 459:\n",
    "            return 7\n",
    "        elif 460 <= code_int <= 519:\n",
    "            return 8\n",
    "        elif 520 <= code_int <= 579:\n",
    "            return 9\n",
    "        elif 580 <= code_int <= 629:\n",
    "            return 10\n",
    "        elif 630 <= code_int <= 679:\n",
    "            return 11\n",
    "        elif 680 <= code_int <= 709:\n",
    "            return 12\n",
    "        elif 710 <= code_int <= 739:\n",
    "            return 13\n",
    "        elif 740 <= code_int <= 759:\n",
    "            return 14\n",
    "        elif 760 <= code_int <= 779:\n",
    "            return 15\n",
    "        elif 780 <= code_int <= 799:\n",
    "            return 16\n",
    "        elif 800 <= code_int <= 999:\n",
    "            return 17\n",
    "        else:\n",
    "            return 0\n",
    "    except ValueError:\n",
    "        return 0\n"
   ]
  },
  {
   "cell_type": "code",
   "execution_count": 261,
   "id": "afd3045d-d3e1-444c-89dc-a2c89174f981",
   "metadata": {},
   "outputs": [],
   "source": [
    "# Function to add categorized ICD-9 codes as a new column\n",
    "def add_icd_cat(df, input_column, output_column):\n",
    "    df[output_column] = df[input_column].apply(categorize_icd9)\n",
    "    return output_column\n"
   ]
  },
  {
   "cell_type": "code",
   "execution_count": 262,
   "id": "b4e08abc-5014-4b14-9f94-ec3c79183c77",
   "metadata": {},
   "outputs": [
    {
     "data": {
      "text/plain": [
       "'diag3_category'"
      ]
     },
     "execution_count": 262,
     "metadata": {},
     "output_type": "execute_result"
    }
   ],
   "source": [
    "add_icd_cat(df, 'diag_1', 'diag1_category')\n",
    "add_icd_cat(df, 'diag_2', 'diag2_category')\n",
    "add_icd_cat(df, 'diag_3', 'diag3_category')"
   ]
  },
  {
   "cell_type": "code",
   "execution_count": 263,
   "id": "6e1bd9ff-fc06-47c1-9704-b26dac62de5d",
   "metadata": {},
   "outputs": [
    {
     "data": {
      "text/plain": [
       "diag1_category\n",
       "7       30336\n",
       "3       11459\n",
       "8       10407\n",
       "9        9208\n",
       "16       7636\n",
       "17       6975\n",
       "10       5078\n",
       "13       4957\n",
       "2        3433\n",
       "1        2768\n",
       "12       2530\n",
       "5        2262\n",
       "18       1644\n",
       "6        1211\n",
       "4        1103\n",
       "11        687\n",
       "14         51\n",
       "None       21\n",
       "Name: count, dtype: int64"
      ]
     },
     "execution_count": 263,
     "metadata": {},
     "output_type": "execute_result"
    }
   ],
   "source": [
    "df[\"diag1_category\"].value_counts()\n"
   ]
  },
  {
   "cell_type": "code",
   "execution_count": 264,
   "id": "de2665bb-ba20-4f57-ae1a-6a4adeebe74d",
   "metadata": {},
   "outputs": [
    {
     "name": "stdout",
     "output_type": "stream",
     "text": [
      "? detected: 21\n",
      "Diag 1: \n",
      "0.0002063557573256294\n",
      "Diag 2: \n",
      "0.0035178743391702533\n",
      "Diag 3: \n",
      "0.013983059174970029\n"
     ]
    }
   ],
   "source": [
    "print(\"? detected: 21\")\n",
    "\n",
    "print(\"Diag 1: \")\n",
    "print(21/101766)\n",
    "\n",
    "print(\"Diag 2: \")\n",
    "print(358/101766)\n",
    "\n",
    "print(\"Diag 3: \")\n",
    "print(1423/101766)\n"
   ]
  },
  {
   "cell_type": "markdown",
   "id": "55a45b7e-bcdc-48a0-9630-257d504a59ed",
   "metadata": {},
   "source": [
    "## 2. Group Admission Type Categories"
   ]
  },
  {
   "cell_type": "markdown",
   "id": "9f81a91d-b782-43e3-89ba-34072387d48d",
   "metadata": {},
   "source": [
    "#### Admission Type Categories\n",
    "\n",
    "0 : Not Available\n",
    "\n",
    "1 : Emergency\n",
    "\n",
    "2 : Urgent\n",
    "\n",
    "3 : Elective\n",
    "\n",
    "4 : Newborn\n",
    "\n",
    "5 : Trauma Center\n"
   ]
  },
  {
   "cell_type": "code",
   "execution_count": 265,
   "id": "7cae614f-856f-4920-b745-2993feb474e2",
   "metadata": {},
   "outputs": [],
   "source": [
    "def clean_ad_type(df, input_column, output_column):\n",
    "    df[output_column] = df[input_column]\n",
    "    df[output_column] = df[output_column].replace([5, 6, 8], 0)\n",
    "    df[output_column] = df[output_column].replace(7, 5)\n",
    "    return output_column\n"
   ]
  },
  {
   "cell_type": "code",
   "execution_count": 266,
   "id": "3e5b1e23-2075-4cca-b2c4-0d7fc9361c1b",
   "metadata": {},
   "outputs": [
    {
     "data": {
      "text/plain": [
       "'admission_type_cleaned'"
      ]
     },
     "execution_count": 266,
     "metadata": {},
     "output_type": "execute_result"
    }
   ],
   "source": [
    "clean_ad_type(df, 'admission_type_id', 'admission_type_cleaned')\n"
   ]
  },
  {
   "cell_type": "code",
   "execution_count": 267,
   "id": "393c4681-d393-4862-ac81-7cbfdc3060bf",
   "metadata": {},
   "outputs": [
    {
     "data": {
      "text/plain": [
       "admission_type_cleaned\n",
       "1    53990\n",
       "3    18869\n",
       "2    18480\n",
       "0    10396\n",
       "5       21\n",
       "4       10\n",
       "Name: count, dtype: int64"
      ]
     },
     "execution_count": 267,
     "metadata": {},
     "output_type": "execute_result"
    }
   ],
   "source": [
    "df[\"admission_type_cleaned\"].value_counts()"
   ]
  },
  {
   "cell_type": "code",
   "execution_count": 268,
   "id": "98050dfb-0080-4f78-9f5a-fc205d611eff",
   "metadata": {},
   "outputs": [
    {
     "name": "stdout",
     "output_type": "stream",
     "text": [
      "0.1021559263408211\n"
     ]
    }
   ],
   "source": [
    "print(10396/101766)"
   ]
  },
  {
   "cell_type": "markdown",
   "id": "c0a59d1d-1830-48f1-94bd-6790bac9bef8",
   "metadata": {},
   "source": [
    "## 3. Group Admission Source Categories"
   ]
  },
  {
   "cell_type": "markdown",
   "id": "accfad83-3fc0-4935-a091-be956c432696",
   "metadata": {},
   "source": [
    "#### Admission Source Categories\n",
    "\n",
    "0 : Uncategorized/Unknown\n",
    "\n",
    "Not Available\n",
    "\n",
    "NULL\n",
    "\n",
    "Not Mapped\n",
    "\n",
    "Unknown/Invalid\n",
    "\n",
    "\n",
    "1 : Referrals \n",
    "\n",
    "Physician Referral\n",
    "\n",
    "Clinic Referral\n",
    "\n",
    "HMO Referral\n",
    "\n",
    "\n",
    "2 : Transfers from Healthcare Facilities\n",
    "\n",
    "Transfer from a hospital\n",
    "\n",
    "Transfer from a Skilled Nursing Facility (SNF)\n",
    "\n",
    "Transfer from another health care facility\n",
    "\n",
    "Transfer from critical access hospital\n",
    "\n",
    "Transfer From Another Home Health Agency\n",
    "\n",
    "Transfer from hospital inpt/same fac result in a sep claim\n",
    "\n",
    "Transfer from Ambulatory Surgery Center\n",
    "\n",
    "Transfer from Hospice\n",
    "\n",
    "\n",
    "3 : Emergency Room\n",
    "\n",
    "\n",
    "4 : Court/Law Enforcement\n",
    "\n",
    "\n",
    "5 : Births and Related Admissions\n",
    "\n",
    "Normal Delivery\n",
    "\n",
    "Premature Delivery\n",
    "\n",
    "Sick Baby\n",
    "\n",
    "Extramural Birth\n",
    "\n",
    "Born inside this hospital\n",
    "\n",
    "Born outside this hospital\n",
    "\n",
    "\n",
    "6 : Readmission to Same Home Health Agency\n"
   ]
  },
  {
   "cell_type": "code",
   "execution_count": 269,
   "id": "71449104-6583-4581-bd49-9654e2a8a76d",
   "metadata": {},
   "outputs": [],
   "source": [
    "def clean_ad_source(df, input_column, output_column):\n",
    "    df[output_column] = df[input_column]\n",
    "    df[output_column] = df[output_column].replace([1, 2, 3], 1)\n",
    "    df[output_column] = df[output_column].replace([4, 5, 6, 10, 18, 22, 25, 26], 2)\n",
    "    df[output_column] = df[output_column].replace(7, 3)\n",
    "    df[output_column] = df[output_column].replace(8, 4)\n",
    "    df[output_column] = df[output_column].replace([11, 12, 13, 14, 23, 24], 5)\n",
    "    df[output_column] = df[output_column].replace(19, 6)\n",
    "    df[output_column] = df[output_column].replace([9, 15, 17, 20, 21], 0)\n",
    "    return output_column"
   ]
  },
  {
   "cell_type": "code",
   "execution_count": 270,
   "id": "e82e45a1-441c-4b1d-b7bc-210ddc74e988",
   "metadata": {},
   "outputs": [
    {
     "data": {
      "text/plain": [
       "'admission_source_cleaned'"
      ]
     },
     "execution_count": 270,
     "metadata": {},
     "output_type": "execute_result"
    }
   ],
   "source": [
    "clean_ad_source(df, 'admission_source_id', 'admission_source_cleaned')\n"
   ]
  },
  {
   "cell_type": "code",
   "execution_count": 271,
   "id": "b8dcaef3-7166-4757-9c37-c0f3227dff6f",
   "metadata": {},
   "outputs": [
    {
     "data": {
      "text/plain": [
       "admission_source_cleaned\n",
       "3    57494\n",
       "1    30856\n",
       "0     7067\n",
       "2     6328\n",
       "4       16\n",
       "5        5\n",
       "Name: count, dtype: int64"
      ]
     },
     "execution_count": 271,
     "metadata": {},
     "output_type": "execute_result"
    }
   ],
   "source": [
    "df[\"admission_source_cleaned\"].value_counts()"
   ]
  },
  {
   "cell_type": "code",
   "execution_count": 272,
   "id": "9efbb310-22c8-40f9-a278-e4346e3e4a08",
   "metadata": {},
   "outputs": [
    {
     "name": "stdout",
     "output_type": "stream",
     "text": [
      "0.06944362557239156\n"
     ]
    }
   ],
   "source": [
    "print(7067/101766)"
   ]
  },
  {
   "cell_type": "markdown",
   "id": "30804d40-0d9d-46ea-a48e-b6f402394119",
   "metadata": {},
   "source": [
    "### Check for missing values (max_glu_serum)"
   ]
  },
  {
   "cell_type": "code",
   "execution_count": 273,
   "id": "c9240278-da07-4fa8-9c49-02b7e5207e9d",
   "metadata": {},
   "outputs": [
    {
     "data": {
      "text/plain": [
       "array([nan, '>300', 'Norm', '>200'], dtype=object)"
      ]
     },
     "execution_count": 273,
     "metadata": {},
     "output_type": "execute_result"
    }
   ],
   "source": [
    "df[\"max_glu_serum\"].unique()"
   ]
  },
  {
   "cell_type": "code",
   "execution_count": 274,
   "id": "2322d9fa-31fd-483c-8956-70612650bf0c",
   "metadata": {},
   "outputs": [
    {
     "data": {
      "text/plain": [
       "max_glu_serum\n",
       "Norm    2597\n",
       ">200    1485\n",
       ">300    1264\n",
       "Name: count, dtype: int64"
      ]
     },
     "execution_count": 274,
     "metadata": {},
     "output_type": "execute_result"
    }
   ],
   "source": [
    "df[\"max_glu_serum\"].value_counts()"
   ]
  },
  {
   "cell_type": "code",
   "execution_count": 275,
   "id": "726d191d-5ae8-4c78-8eb0-9bca96975d8f",
   "metadata": {},
   "outputs": [
    {
     "name": "stdout",
     "output_type": "stream",
     "text": [
      "96420\n"
     ]
    },
    {
     "data": {
      "text/plain": [
       "0.9474677200636755"
      ]
     },
     "execution_count": 275,
     "metadata": {},
     "output_type": "execute_result"
    }
   ],
   "source": [
    "print(df[\"max_glu_serum\"].isna().sum())\n",
    "\n",
    "96420/101766"
   ]
  },
  {
   "cell_type": "code",
   "execution_count": 276,
   "id": "4514f429-fbbc-4c35-b45f-59d88fdfbb53",
   "metadata": {},
   "outputs": [],
   "source": [
    "df['max_glu_serum_cleaned'] = df['max_glu_serum'].fillna(\"None\")\n"
   ]
  },
  {
   "cell_type": "code",
   "execution_count": 277,
   "id": "9f89bda2-1593-4a4a-b97b-ccfaa4cab2f2",
   "metadata": {},
   "outputs": [
    {
     "data": {
      "text/plain": [
       "max_glu_serum_cleaned\n",
       "None    96420\n",
       "Norm     2597\n",
       ">200     1485\n",
       ">300     1264\n",
       "Name: count, dtype: int64"
      ]
     },
     "execution_count": 277,
     "metadata": {},
     "output_type": "execute_result"
    }
   ],
   "source": [
    "df['max_glu_serum_cleaned'].value_counts()"
   ]
  },
  {
   "cell_type": "markdown",
   "id": "41558974-f36b-4aae-8fdb-b75885d73e86",
   "metadata": {},
   "source": [
    "## Save new columns as CSV"
   ]
  },
  {
   "cell_type": "code",
   "execution_count": 278,
   "id": "6c224821-1395-463d-98a2-ecdc9cc0b859",
   "metadata": {},
   "outputs": [
    {
     "data": {
      "text/html": [
       "<div>\n",
       "<style scoped>\n",
       "    .dataframe tbody tr th:only-of-type {\n",
       "        vertical-align: middle;\n",
       "    }\n",
       "\n",
       "    .dataframe tbody tr th {\n",
       "        vertical-align: top;\n",
       "    }\n",
       "\n",
       "    .dataframe thead th {\n",
       "        text-align: right;\n",
       "    }\n",
       "</style>\n",
       "<table border=\"1\" class=\"dataframe\">\n",
       "  <thead>\n",
       "    <tr style=\"text-align: right;\">\n",
       "      <th></th>\n",
       "      <th>admission_type_cleaned</th>\n",
       "      <th>admission_source_cleaned</th>\n",
       "      <th>diag1_category</th>\n",
       "      <th>diag2_category</th>\n",
       "      <th>diag3_category</th>\n",
       "      <th>max_glu_serum_cleaned</th>\n",
       "    </tr>\n",
       "  </thead>\n",
       "  <tbody>\n",
       "    <tr>\n",
       "      <th>0</th>\n",
       "      <td>0</td>\n",
       "      <td>1</td>\n",
       "      <td>3</td>\n",
       "      <td>None</td>\n",
       "      <td>None</td>\n",
       "      <td>None</td>\n",
       "    </tr>\n",
       "    <tr>\n",
       "      <th>1</th>\n",
       "      <td>1</td>\n",
       "      <td>3</td>\n",
       "      <td>3</td>\n",
       "      <td>3</td>\n",
       "      <td>3</td>\n",
       "      <td>None</td>\n",
       "    </tr>\n",
       "    <tr>\n",
       "      <th>2</th>\n",
       "      <td>1</td>\n",
       "      <td>3</td>\n",
       "      <td>11</td>\n",
       "      <td>3</td>\n",
       "      <td>18</td>\n",
       "      <td>None</td>\n",
       "    </tr>\n",
       "    <tr>\n",
       "      <th>3</th>\n",
       "      <td>1</td>\n",
       "      <td>3</td>\n",
       "      <td>1</td>\n",
       "      <td>3</td>\n",
       "      <td>7</td>\n",
       "      <td>None</td>\n",
       "    </tr>\n",
       "    <tr>\n",
       "      <th>4</th>\n",
       "      <td>1</td>\n",
       "      <td>3</td>\n",
       "      <td>2</td>\n",
       "      <td>2</td>\n",
       "      <td>3</td>\n",
       "      <td>None</td>\n",
       "    </tr>\n",
       "    <tr>\n",
       "      <th>...</th>\n",
       "      <td>...</td>\n",
       "      <td>...</td>\n",
       "      <td>...</td>\n",
       "      <td>...</td>\n",
       "      <td>...</td>\n",
       "      <td>...</td>\n",
       "    </tr>\n",
       "    <tr>\n",
       "      <th>101761</th>\n",
       "      <td>1</td>\n",
       "      <td>3</td>\n",
       "      <td>3</td>\n",
       "      <td>5</td>\n",
       "      <td>7</td>\n",
       "      <td>None</td>\n",
       "    </tr>\n",
       "    <tr>\n",
       "      <th>101762</th>\n",
       "      <td>1</td>\n",
       "      <td>2</td>\n",
       "      <td>9</td>\n",
       "      <td>3</td>\n",
       "      <td>16</td>\n",
       "      <td>None</td>\n",
       "    </tr>\n",
       "    <tr>\n",
       "      <th>101763</th>\n",
       "      <td>1</td>\n",
       "      <td>3</td>\n",
       "      <td>1</td>\n",
       "      <td>10</td>\n",
       "      <td>5</td>\n",
       "      <td>None</td>\n",
       "    </tr>\n",
       "    <tr>\n",
       "      <th>101764</th>\n",
       "      <td>2</td>\n",
       "      <td>3</td>\n",
       "      <td>17</td>\n",
       "      <td>4</td>\n",
       "      <td>17</td>\n",
       "      <td>None</td>\n",
       "    </tr>\n",
       "    <tr>\n",
       "      <th>101765</th>\n",
       "      <td>1</td>\n",
       "      <td>3</td>\n",
       "      <td>9</td>\n",
       "      <td>9</td>\n",
       "      <td>16</td>\n",
       "      <td>None</td>\n",
       "    </tr>\n",
       "  </tbody>\n",
       "</table>\n",
       "<p>101766 rows × 6 columns</p>\n",
       "</div>"
      ],
      "text/plain": [
       "        admission_type_cleaned  admission_source_cleaned diag1_category  \\\n",
       "0                            0                         1              3   \n",
       "1                            1                         3              3   \n",
       "2                            1                         3             11   \n",
       "3                            1                         3              1   \n",
       "4                            1                         3              2   \n",
       "...                        ...                       ...            ...   \n",
       "101761                       1                         3              3   \n",
       "101762                       1                         2              9   \n",
       "101763                       1                         3              1   \n",
       "101764                       2                         3             17   \n",
       "101765                       1                         3              9   \n",
       "\n",
       "       diag2_category diag3_category max_glu_serum_cleaned  \n",
       "0                None           None                  None  \n",
       "1                   3              3                  None  \n",
       "2                   3             18                  None  \n",
       "3                   3              7                  None  \n",
       "4                   2              3                  None  \n",
       "...               ...            ...                   ...  \n",
       "101761              5              7                  None  \n",
       "101762              3             16                  None  \n",
       "101763             10              5                  None  \n",
       "101764              4             17                  None  \n",
       "101765              9             16                  None  \n",
       "\n",
       "[101766 rows x 6 columns]"
      ]
     },
     "execution_count": 278,
     "metadata": {},
     "output_type": "execute_result"
    }
   ],
   "source": [
    "new = df[[\"admission_type_cleaned\", \"admission_source_cleaned\", \"diag1_category\", \"diag2_category\", \"diag3_category\", \"max_glu_serum_cleaned\"]]\n",
    "new\n",
    "\n"
   ]
  },
  {
   "cell_type": "code",
   "execution_count": 283,
   "id": "f21ad1e0-2d6f-4998-9cd4-e21009464e4a",
   "metadata": {},
   "outputs": [],
   "source": [
    "new.to_csv(\"cleaned_columns.csv\")"
   ]
  },
  {
   "cell_type": "code",
   "execution_count": null,
   "id": "0c4dec99-5ab0-4c0a-850c-f9c0a76abc37",
   "metadata": {},
   "outputs": [],
   "source": []
  }
 ],
 "metadata": {
  "kernelspec": {
   "display_name": "Python 3 (ipykernel)",
   "language": "python",
   "name": "python3"
  },
  "language_info": {
   "codemirror_mode": {
    "name": "ipython",
    "version": 3
   },
   "file_extension": ".py",
   "mimetype": "text/x-python",
   "name": "python",
   "nbconvert_exporter": "python",
   "pygments_lexer": "ipython3",
   "version": "3.10.12"
  }
 },
 "nbformat": 4,
 "nbformat_minor": 5
}
