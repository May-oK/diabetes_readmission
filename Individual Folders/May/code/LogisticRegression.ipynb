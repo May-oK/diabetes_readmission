{
 "cells": [
  {
   "cell_type": "code",
   "execution_count": 1,
   "id": "bdde08ae-3273-4ba9-8e7d-e4b358bc6de3",
   "metadata": {},
   "outputs": [],
   "source": [
    "using CSV, DataFrames"
   ]
  },
  {
   "cell_type": "code",
   "execution_count": 26,
   "id": "cabf0083-e858-4492-853e-a42cd73cb473",
   "metadata": {},
   "outputs": [],
   "source": [
    "train_grouped = CSV.read(\"Training_Set_grouped_binary.csv\", DataFrame)\n",
    "test_grouped = CSV.read(\"Testing_Set_grouped_binary.csv\", DataFrame);\n",
    "\n",
    "train_grouped = train_grouped[:, 2:74]\n",
    "test_grouped = test_grouped[:, 2:74];\n"
   ]
  },
  {
   "cell_type": "code",
   "execution_count": 27,
   "id": "c99898b5-0ee7-4166-9fb1-fb38300e1094",
   "metadata": {},
   "outputs": [],
   "source": [
    "train_X = train_grouped[:,1:72]\n",
    "train_y = train_grouped[:,73];\n"
   ]
  },
  {
   "cell_type": "code",
   "execution_count": 28,
   "id": "fb355a87-3c6d-4b76-9124-e94d3eec932f",
   "metadata": {},
   "outputs": [],
   "source": [
    "test_X = test_grouped[:,1:72]\n",
    "test_y = test_grouped[:,73];\n"
   ]
  },
  {
   "cell_type": "markdown",
   "id": "eadb00f1-efd1-4c61-9ff2-796ebea55c1c",
   "metadata": {},
   "source": [
    "## Sparse Logistic Regression"
   ]
  },
  {
   "cell_type": "code",
   "execution_count": 12,
   "id": "0c91527a-a179-4b16-b0c0-5d12ed93f548",
   "metadata": {},
   "outputs": [
    {
     "data": {
      "text/plain": [
       "All Grid Results:\n",
       "\n",
       "\u001b[1m Row │\u001b[1m sparsity \u001b[1m train_score \u001b[1m valid_score \u001b[1m rank_valid_score\n",
       "     │\u001b[90m Int64    \u001b[90m Float64     \u001b[90m Float64     \u001b[90m Int64\n",
       "─────┼──────────────────────────────────────────────────────\n",
       "   1 │        1    0.0431737     0.611594                10\n",
       "   2 │        2    0.0505216     0.636861                 9\n",
       "   3 │        3    0.0535855     0.642004                 8\n",
       "   4 │        4    0.0570545     0.645507                 7\n",
       "   5 │        5    0.0586357     0.649566                 6\n",
       "   6 │        6    0.0602274     0.65159                  5\n",
       "   7 │        7    0.0613839     0.655012                 4\n",
       "   8 │        8    0.0620524     0.655939                 3\n",
       "   9 │        9    0.062906      0.65686                  2\n",
       "  10 │       10    0.0631958     0.65704                  1\n",
       "\n",
       "Best Params:\n",
       "  sparsity => 10\n",
       "\n",
       "Best Model - Fitted OptimalFeatureSelectionClassifier:\n",
       "  Constant: -1.56573\n",
       "  Weights:\n",
       "    admission_source_cleaned_2: -0.519927\n",
       "    admission_source_cleaned_3:  0.150432\n",
       "    age:                         0.0049562\n",
       "    diabetesMed_Yes:             0.23917\n",
       "    number_diagnoses:            0.0704285\n",
       "    number_emergency:            0.209445\n",
       "    number_inpatient:            0.396986\n",
       "    number_outpatient:           0.0838596\n",
       "    race_Unknown:               -0.385395\n",
       "    time_in_hospital:            0.0183156\n",
       "  (Higher score indicates stronger prediction for class `1`)"
      ]
     },
     "execution_count": 12,
     "metadata": {},
     "output_type": "execute_result"
    }
   ],
   "source": [
    "lnr = IAI.OptimalFeatureSelectionClassifier(random_seed=42)\n",
    "\n",
    "grid_sparse = IAI.GridSearch(lnr,sparsity =1:10)\n",
    "\n",
    "IAI.fit!(grid_sparse, train_X, train_y, validation_criterion = :auc)\n"
   ]
  },
  {
   "cell_type": "code",
   "execution_count": 13,
   "id": "1750c5b9-4b14-49c8-8c16-03ec7a504464",
   "metadata": {},
   "outputs": [
    {
     "data": {
      "text/plain": [
       "Fitted OptimalFeatureSelectionClassifier:\n",
       "  Constant: -1.56573\n",
       "  Weights:\n",
       "    admission_source_cleaned_2: -0.519927\n",
       "    admission_source_cleaned_3:  0.150432\n",
       "    age:                         0.0049562\n",
       "    diabetesMed_Yes:             0.23917\n",
       "    number_diagnoses:            0.0704285\n",
       "    number_emergency:            0.209445\n",
       "    number_inpatient:            0.396986\n",
       "    number_outpatient:           0.0838596\n",
       "    race_Unknown:               -0.385395\n",
       "    time_in_hospital:            0.0183156\n",
       "  (Higher score indicates stronger prediction for class `1`)"
      ]
     },
     "execution_count": 13,
     "metadata": {},
     "output_type": "execute_result"
    }
   ],
   "source": [
    "# Get the best parameters and the best model\n",
    "best_params = IAI.get_best_params(grid_sparse)\n",
    "best_model = IAI.get_learner(grid_sparse)"
   ]
  },
  {
   "cell_type": "code",
   "execution_count": 14,
   "id": "24ac18a2-a3d8-40fe-9afd-8ad7d2f01f21",
   "metadata": {},
   "outputs": [
    {
     "name": "stdout",
     "output_type": "stream",
     "text": [
      "train_auc: 0.6650944392086889\n",
      "test_auc: 0.6665585746897991\n"
     ]
    }
   ],
   "source": [
    "#AUC\n",
    "train_auc = IAI.score(grid_sparse,train_X, train_y,criterion=:auc)\n",
    "test_auc = IAI.score(grid_sparse,test_X, test_y,criterion=:auc)\n",
    "println(\"train_auc: \", train_auc)\n",
    "println(\"test_auc: \", test_auc)"
   ]
  },
  {
   "cell_type": "code",
   "execution_count": 15,
   "id": "58549df2-5698-427c-a5a9-fdbbe25ac4b3",
   "metadata": {},
   "outputs": [],
   "source": [
    "#Predict on test set\n",
    "predictions = IAI.predict(grid_sparse, test_X);"
   ]
  },
  {
   "cell_type": "code",
   "execution_count": 16,
   "id": "3c8733b8-ee45-4e8f-bf93-19952f76abe5",
   "metadata": {},
   "outputs": [
    {
     "data": {
      "text/plain": [
       "\"predictions_3.csv\""
      ]
     },
     "execution_count": 16,
     "metadata": {},
     "output_type": "execute_result"
    }
   ],
   "source": [
    "results_df = DataFrame(Actual = test_y, Predicted = predictions)\n",
    "CSV.write(\"predictions_3.csv\", results_df)"
   ]
  },
  {
   "cell_type": "markdown",
   "id": "b6b8212a-7c8d-4e1f-9018-804a9b4a83b7",
   "metadata": {},
   "source": [
    "## Sparse Logistic Regression (with Key Features)"
   ]
  },
  {
   "cell_type": "code",
   "execution_count": 17,
   "id": "dafdac04-b783-4bd0-bdec-69d62c6f63a9",
   "metadata": {},
   "outputs": [],
   "source": [
    "sub_features = [\n",
    "    \"age\", \"time_in_hospital\", \"num_lab_procedures\", \"num_procedures\",\n",
    "    \"num_medications\", \"number_outpatient\", \"number_emergency\", \"number_inpatient\",\n",
    "    \"number_diagnoses\", \"med_count_1\", \"med_count_2\", \"med_count_3\",\n",
    "    \"med_count_4\", \"med_count_6\", \"race_Caucasian\", \"race_Hispanic\",\n",
    "    \"race_Other\", \"race_Unknown\", \"gender_Male\", \"A1Cresult_>8\",\n",
    "    \"A1Cresult_Norm\", \"A1Cresult_Not Taken\", \"diabetesMed_Yes\",\n",
    "    \"med_change_1_NoMed\", \"med_change_1_Steady\", \"med_change_1_Up\",\n",
    "    \"med_change_2_NoMed\", \"med_change_2_Steady\", \"med_change_2_Up\",\n",
    "    \"med_change_3_NoMed\", \"med_change_3_Steady\", \"med_change_4_NoMed\",\n",
    "    \"med_change_4_Steady\", \"med_change_6_NoMed\", \"med_change_6_Steady\",\n",
    "    \"med_change_6_Up\", \"med_change_other_Yes\", \"discharge_group_2\",\n",
    "    \"discharge_group_3\", \"discharge_group_4\", \"discharge_group_7\",\n",
    "    \"admission_type_cleaned_1\", \"admission_type_cleaned_2\",\n",
    "    \"admission_type_cleaned_3\", \"admission_source_cleaned_1\",\n",
    "    \"admission_source_cleaned_2\", \"admission_source_cleaned_3\",\n",
    "    \"diag1_category_1\", \"diag1_category_2\", \"diag1_category_3\",\n",
    "    \"diag1_category_4\", \"diag1_category_5\", \"diag1_category_6\",\n",
    "    \"diag1_category_7\", \"diag1_category_8\", \"diag1_category_9\",\n",
    "    \"max_glu_serum_cleaned_>300\", \"max_glu_serum_cleaned_Norm\",\n",
    "    \"max_glu_serum_cleaned_Not Taken\",\"readmitted\"\n",
    "];\n"
   ]
  },
  {
   "cell_type": "code",
   "execution_count": 18,
   "id": "6b285956-cb1e-4e7b-8584-2f03539e30e2",
   "metadata": {},
   "outputs": [],
   "source": [
    "train_grouped_filtered = train_grouped[:, sub_features]\n",
    "test_grouped_filtered = test_grouped[:, sub_features];\n"
   ]
  },
  {
   "cell_type": "code",
   "execution_count": 19,
   "id": "ada2380e-5143-4d49-ba48-56e7be6f2060",
   "metadata": {},
   "outputs": [],
   "source": [
    "train_X = train_grouped_filtered[:,1:59]\n",
    "train_y = train_grouped_filtered[:,60];\n"
   ]
  },
  {
   "cell_type": "code",
   "execution_count": 20,
   "id": "521d83d7-b184-4881-ba16-f981da047913",
   "metadata": {},
   "outputs": [],
   "source": [
    "test_X = test_grouped_filtered[:,1:59]\n",
    "test_y = test_grouped_filtered[:,60];\n"
   ]
  },
  {
   "cell_type": "code",
   "execution_count": 21,
   "id": "ed4893c9-c3ed-47c7-b5df-886a95a122b7",
   "metadata": {},
   "outputs": [
    {
     "data": {
      "text/plain": [
       "All Grid Results:\n",
       "\n",
       "\u001b[1m Row │\u001b[1m sparsity \u001b[1m train_score \u001b[1m valid_score \u001b[1m rank_valid_score\n",
       "     │\u001b[90m Int64    \u001b[90m Float64     \u001b[90m Float64     \u001b[90m Int64\n",
       "─────┼──────────────────────────────────────────────────────\n",
       "   1 │        1    0.0431755     0.611594                10\n",
       "   2 │        2    0.0505216     0.636861                 9\n",
       "   3 │        3    0.0542588     0.640628                 8\n",
       "   4 │        4    0.0570582     0.645749                 7\n",
       "   5 │        5    0.0586787     0.648144                 6\n",
       "   6 │        6    0.0602275     0.65159                  5\n",
       "   7 │        7    0.0613839     0.655018                 4\n",
       "   8 │        8    0.0621899     0.656952                 2\n",
       "   9 │        9    0.062906      0.65686                  3\n",
       "  10 │       10    0.0633406     0.6577                   1\n",
       "\n",
       "Best Params:\n",
       "  sparsity => 10\n",
       "\n",
       "Best Model - Fitted OptimalFeatureSelectionClassifier:\n",
       "  Constant: -1.52222\n",
       "  Weights:\n",
       "    admission_source_cleaned_2: -0.522728\n",
       "    admission_source_cleaned_3:  0.130489\n",
       "    age:                         0.00445629\n",
       "    diabetesMed_Yes:             0.241025\n",
       "    diag1_category_7:            0.131138\n",
       "    num_procedures:             -0.0303914\n",
       "    number_diagnoses:            0.0800837\n",
       "    number_emergency:            0.20904\n",
       "    number_inpatient:            0.400759\n",
       "    number_outpatient:           0.0820097\n",
       "  (Higher score indicates stronger prediction for class `1`)"
      ]
     },
     "execution_count": 21,
     "metadata": {},
     "output_type": "execute_result"
    }
   ],
   "source": [
    "lnr = IAI.OptimalFeatureSelectionClassifier(random_seed=42)\n",
    "\n",
    "grid_sparse = IAI.GridSearch(lnr,sparsity =1:10)\n",
    "\n",
    "IAI.fit!(grid_sparse, train_X, train_y, validation_criterion = :auc)\n"
   ]
  },
  {
   "cell_type": "code",
   "execution_count": 22,
   "id": "b0106609-5148-4e75-b8bc-cfbd78a9f54c",
   "metadata": {},
   "outputs": [
    {
     "name": "stdout",
     "output_type": "stream",
     "text": [
      "train_auc: 0.6645398870457798\n",
      "test_auc: 0.6648339899283103\n"
     ]
    }
   ],
   "source": [
    "#AUC\n",
    "train_auc = IAI.score(grid_sparse,train_X, train_y,criterion=:auc)\n",
    "test_auc = IAI.score(grid_sparse,test_X, test_y,criterion=:auc)\n",
    "println(\"train_auc: \", train_auc)\n",
    "println(\"test_auc: \", test_auc)"
   ]
  },
  {
   "cell_type": "code",
   "execution_count": 23,
   "id": "47865f1b-cfe0-4cdb-82f6-5f1b6e3302a2",
   "metadata": {},
   "outputs": [],
   "source": [
    "#Predict on test set\n",
    "predictions = IAI.predict(grid_sparse, test_X);"
   ]
  },
  {
   "cell_type": "code",
   "execution_count": 24,
   "id": "f1dadc12-ea4d-493b-ac83-9705db2603c6",
   "metadata": {},
   "outputs": [
    {
     "data": {
      "text/plain": [
       "\"predictions_4.csv\""
      ]
     },
     "execution_count": 24,
     "metadata": {},
     "output_type": "execute_result"
    }
   ],
   "source": [
    "results_df = DataFrame(Actual = test_y, Predicted = predictions)\n",
    "CSV.write(\"predictions_4.csv\", results_df)"
   ]
  },
  {
   "cell_type": "markdown",
   "id": "bade2be0-32f7-47fe-9017-7e738bda6374",
   "metadata": {},
   "source": [
    "## Random Forest"
   ]
  },
  {
   "cell_type": "code",
   "execution_count": 30,
   "id": "13041506-f54e-4ebb-9179-d4367dcd2b5b",
   "metadata": {},
   "outputs": [],
   "source": [
    "# lnr = IAI. RandomForestClassifier(random_seed=42)\n",
    "# grid_rf = IAI.GridSearch(lnr,\n",
    "#     max_depth=[5, 10, 20, 30],\n",
    "#     minbucket=[1],\n",
    "#     num_trees=[50,100,200,300])\n",
    "    \n",
    "# IAI.fit!(grid_rf, train_X, train_y, validation_criterion = :auc)\n"
   ]
  },
  {
   "cell_type": "code",
   "execution_count": null,
   "id": "834b4f21-3168-4232-8e1a-d53d6b3cd346",
   "metadata": {},
   "outputs": [],
   "source": []
  }
 ],
 "metadata": {
  "kernelspec": {
   "display_name": "Julia (IAI_1) 1.9.3",
   "language": "julia",
   "name": "julia-_iai_1_-1.9"
  },
  "language_info": {
   "file_extension": ".jl",
   "mimetype": "application/julia",
   "name": "julia",
   "version": "1.9.3"
  }
 },
 "nbformat": 4,
 "nbformat_minor": 5
}
