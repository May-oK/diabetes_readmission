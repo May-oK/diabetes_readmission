{
 "cells": [
  {
   "cell_type": "code",
   "execution_count": 1,
   "id": "e4655e34-ea26-483e-8d79-25fbbaae4e10",
   "metadata": {},
   "outputs": [],
   "source": [
    "using CSV, DataFrames, CategoricalArrays\n",
    "using Statistics\n",
    "using CategoricalArrays"
   ]
  },
  {
   "cell_type": "code",
   "execution_count": 2,
   "id": "f31403b4-5947-4d98-a3cf-ed860ba207ec",
   "metadata": {},
   "outputs": [],
   "source": [
    "train_grouped = CSV.read(\"../Output/OPT_Training_Set_grouped_binary.csv\", DataFrame)\n",
    "test_grouped = CSV.read(\"../Output/OPT_Testing_Set_grouped_binary.csv\", DataFrame);\n",
    "\n",
    "train_grouped = train_grouped[:, 2:74]\n",
    "test_grouped = test_grouped[:, 2:74];\n"
   ]
  },
  {
   "cell_type": "code",
   "execution_count": 6,
   "id": "37e08142-6398-42b2-ba14-c4e9aabf2019",
   "metadata": {},
   "outputs": [],
   "source": [
    "train_X = train_grouped[:,1:72]\n",
    "train_y = train_grouped[:,73];\n"
   ]
  },
  {
   "cell_type": "code",
   "execution_count": 7,
   "id": "b4596d44-6d36-4b40-92fc-b6477d41458c",
   "metadata": {},
   "outputs": [],
   "source": [
    "test_X = test_grouped[:,1:72]\n",
    "test_y = test_grouped[:,73];\n"
   ]
  },
  {
   "cell_type": "markdown",
   "id": "be32da0b-0008-42c5-9aea-74bf3bb67858",
   "metadata": {},
   "source": [
    "## Specify treatments"
   ]
  },
  {
   "cell_type": "code",
   "execution_count": 10,
   "id": "c3294388-518a-480b-b9f0-1edbc2720089",
   "metadata": {},
   "outputs": [],
   "source": [
    "treatment_cols =  [\"med_change_1_NoMed\",\"med_change_1_Steady\", \"med_change_1_Up\", \"med_change_2_Mixed\",\n",
    "                    \"med_change_2_NoMed\", \"med_change_2_Steady\", \"med_change_2_Up\",\n",
    "                    \"med_change_3_NoMed\", \"med_change_3_Steady\", \"med_change_3_Up\", \n",
    "                    \"med_change_4_NoMed\", \"med_change_4_Steady\", \"med_change_4_Up\",\n",
    "                    \"med_change_5_NoMed\", \"med_change_5_Steady\", \"med_change_5_Up\",\n",
    "                    \"med_change_6_NoMed\", \"med_change_6_Steady\", \"med_change_6_Up\",\n",
    "                    \"med_change_other_Yes\"];\n",
    "\n",
    "excluded_cols = [:med_change_1_NoMed, :med_change_1_Steady, :med_change_1_Up, \n",
    "                 :med_change_2_Mixed, :med_change_2_NoMed, :med_change_2_Steady, :med_change_2_Up, \n",
    "                 :med_change_3_NoMed, :med_change_3_Steady, :med_change_3_Up, \n",
    "                 :med_change_4_NoMed, :med_change_4_Steady, :med_change_4_Up, \n",
    "                 :med_change_5_NoMed, :med_change_5_Steady, :med_change_5_Up, \n",
    "                 :med_change_6_NoMed, :med_change_6_Steady, :med_change_6_Up, \n",
    "                 :med_change_other_Yes, :readmitted];"
   ]
  },
  {
   "cell_type": "code",
   "execution_count": 11,
   "id": "5575ac7a-a193-45a8-8eb0-8ee3a5b1563f",
   "metadata": {},
   "outputs": [],
   "source": [
    "# Select only feature columns for train and test sets\n",
    "train_X = select(train_grouped, Not(excluded_cols))\n",
    "test_X = select(test_grouped, Not(excluded_cols));"
   ]
  },
  {
   "cell_type": "code",
   "execution_count": 13,
   "id": "82a0720b-04b7-40aa-b116-07ed0e27bc13",
   "metadata": {},
   "outputs": [],
   "source": [
    "# Extract only treatment columns for train and test sets\n",
    "treatments_train = select(train_grouped, treatment_cols)\n",
    "treatments_test = select(test_grouped, treatment_cols);"
   ]
  },
  {
   "cell_type": "code",
   "execution_count": 15,
   "id": "e8c40b21-abf1-4a01-b823-272ab5abacdc",
   "metadata": {},
   "outputs": [],
   "source": [
    "# Convert treatments_train and treatments_test from DataFrame to Matrix\n",
    "treatments_train_matrix = Matrix(treatments_train)\n",
    "treatments_test_matrix = Matrix(treatments_test);"
   ]
  },
  {
   "cell_type": "code",
   "execution_count": 16,
   "id": "61c6ea1f-14c2-4423-999d-b5d6a0800d97",
   "metadata": {},
   "outputs": [],
   "source": [
    "# Extract the outcome variable\n",
    "train_y = train_grouped[:, :readmitted]\n",
    "test_y = test_grouped[:, :readmitted];"
   ]
  },
  {
   "cell_type": "markdown",
   "id": "9613a9e3-3535-4cae-ae48-336b47c8966e",
   "metadata": {},
   "source": [
    "## Optimal Policy Trees"
   ]
  },
  {
   "cell_type": "code",
   "execution_count": 63,
   "id": "cce5a967-5528-459e-a1f6-cd8908ec40d5",
   "metadata": {},
   "outputs": [
    {
     "data": {
      "text/plain": [
       "Unfitted CategoricalClassificationRewardEstimator:\n",
       "  propensity_estimator: Unfitted RandomForestClassifier\n",
       "  outcome_estimator:    Unfitted RandomForestClassifier\n",
       "  reward_estimator:     doubly_robust\n",
       "  random_seed:          42"
      ]
     },
     "execution_count": 63,
     "metadata": {},
     "output_type": "execute_result"
    }
   ],
   "source": [
    "seed=42\n",
    "\n",
    "categorical_reward_lnr = IAI.CategoricalClassificationRewardEstimator(\n",
    "    propensity_estimator=IAI.RandomForestClassifier(),\n",
    "    outcome_estimator=IAI.RandomForestClassifier(),\n",
    "    reward_estimator=:doubly_robust,\n",
    "    random_seed=seed,\n",
    ")"
   ]
  },
  {
   "cell_type": "code",
   "execution_count": 69,
   "id": "8aaa87ad-7312-45c0-8bd3-cdadf7d9682a",
   "metadata": {},
   "outputs": [
    {
     "data": {
      "text/plain": [
       "49764-element Vector{Int64}:\n",
       " 1\n",
       " 1\n",
       " 1\n",
       " 1\n",
       " 1\n",
       " 2\n",
       " 1\n",
       " 1\n",
       " 1\n",
       " 2\n",
       " 1\n",
       " 1\n",
       " 1\n",
       " ⋮\n",
       " 2\n",
       " 1\n",
       " 3\n",
       " 1\n",
       " 1\n",
       " 1\n",
       " 1\n",
       " 1\n",
       " 1\n",
       " 2\n",
       " 1\n",
       " 1"
      ]
     },
     "execution_count": 69,
     "metadata": {},
     "output_type": "execute_result"
    }
   ],
   "source": [
    "train_X_matrix = Matrix(train_X)\n",
    "# Example for one-hot encoded treatments\n",
    "# Assuming that each row has only one '1' indicating the active treatment\n",
    "treatments_train_vector = [findfirst(==(1), row) for row in eachrow(treatments_train_matrix)]\n"
   ]
  },
  {
   "cell_type": "code",
   "execution_count": 73,
   "id": "b7558aba-b38a-40c0-af04-ff9c2071ef06",
   "metadata": {},
   "outputs": [
    {
     "data": {
      "text/plain": [
       "Dict{Int64, Float64} with 7 entries:\n",
       "  5 => 0.00122838\n",
       "  6 => 0.0348598\n",
       "  7 => -0.476363\n",
       "  2 => 0.0702309\n",
       "  8 => -0.419985\n",
       "  3 => 0.0625152\n",
       "  1 => 0.0816818"
      ]
     },
     "execution_count": 73,
     "metadata": {},
     "output_type": "execute_result"
    }
   ],
   "source": [
    "train_predictions, train_reward_score = IAI.fit_predict!(\n",
    "    categorical_reward_lnr, train_X_matrix, treatments_train_vector, train_y)\n",
    "\n",
    "\n",
    "train_rewards = train_predictions[:reward]\n",
    "train_reward_score[:outcome]\n"
   ]
  },
  {
   "cell_type": "code",
   "execution_count": 75,
   "id": "0f0bfdf8-b474-4a5b-81a0-f90c43f615d9",
   "metadata": {},
   "outputs": [
    {
     "data": {
      "text/plain": [
       "0.7441342452239152"
      ]
     },
     "execution_count": 75,
     "metadata": {},
     "output_type": "execute_result"
    }
   ],
   "source": [
    "train_reward_score[:propensity]"
   ]
  },
  {
   "cell_type": "code",
   "execution_count": 76,
   "id": "fd6a2ef8-bfa9-4cc0-850c-89c6560a7043",
   "metadata": {},
   "outputs": [
    {
     "ename": "LoadError",
     "evalue": "MethodError: no method matching fit!(::IAIBase.GridSearch{OptimalTrees.OptimalTreePolicyMinimizer, IAITrees.TreeGridResult, IAIBase.Data{IAIBase.PolicyTask{IAIBase.PolicyMinimize}, IAIBase.PolicyTarget{IAIBase.PolicyMinimize}}}, ::DataFrame, ::Dict{Symbol, Any})\n\n\u001b[0mClosest candidates are:\n\u001b[0m  fit!(::IAIBase.GridSearch{<:IAIBase.Learner{<:IAIBase.PolicyTask}}, ::Union{AbstractDataFrame, AbstractMatrix{<:Real}}, \u001b[91m::Union{AbstractDataFrame, AbstractMatrix{<:Real}}\u001b[39m; sample_weight, kwargs...)\n\u001b[0m\u001b[90m   @\u001b[39m \u001b[33mIAIBase\u001b[39m \u001b[90m/Users/iai/builds/e7x1Q22r/0/InterpretableAI/SystemImage/SysImgBuilder/.julia/packages/IAIBase/KTDAt/src/\u001b[39m\u001b[90m\u001b[4mapi.jl:135\u001b[24m\u001b[39m\n\u001b[0m  fit!(::IAIBase.GridSearch{<:IAIBase.Learner{<:IAIBase.PolicyTask}}, ::Union{AbstractDataFrame, AbstractMatrix{<:Real}}, \u001b[91m::Union{AbstractDataFrame, AbstractMatrix{<:Real}}\u001b[39m, \u001b[91m::Union{AbstractDataFrame, AbstractMatrix{<:Real}}\u001b[39m, \u001b[91m::Union{AbstractDataFrame, AbstractMatrix{<:Real}}\u001b[39m; sample_weight, kwargs...)\n\u001b[0m\u001b[90m   @\u001b[39m \u001b[33mIAIBase\u001b[39m \u001b[90m/Users/iai/builds/e7x1Q22r/0/InterpretableAI/SystemImage/SysImgBuilder/.julia/packages/IAIBase/KTDAt/src/\u001b[39m\u001b[90m\u001b[4mapi.jl:95\u001b[24m\u001b[39m\n\u001b[0m  fit!(\u001b[91m::IAIBase.GridSearch{<:IAIBase.Learner{<:IAIBase.PrescriptionTask}}\u001b[39m, ::Union{AbstractDataFrame, AbstractMatrix{<:Real}}, \u001b[91m::AbstractVector\u001b[39m, \u001b[91m::AbstractVector\u001b[39m; sample_weight, kwargs...)\n\u001b[0m\u001b[90m   @\u001b[39m \u001b[33mIAIBase\u001b[39m \u001b[90m/Users/iai/builds/e7x1Q22r/0/InterpretableAI/SystemImage/SysImgBuilder/.julia/packages/IAIBase/KTDAt/src/\u001b[39m\u001b[90m\u001b[4mapi.jl:135\u001b[24m\u001b[39m\n\u001b[0m  ...\n",
     "output_type": "error",
     "traceback": [
      "MethodError: no method matching fit!(::IAIBase.GridSearch{OptimalTrees.OptimalTreePolicyMinimizer, IAITrees.TreeGridResult, IAIBase.Data{IAIBase.PolicyTask{IAIBase.PolicyMinimize}, IAIBase.PolicyTarget{IAIBase.PolicyMinimize}}}, ::DataFrame, ::Dict{Symbol, Any})\n\n\u001b[0mClosest candidates are:\n\u001b[0m  fit!(::IAIBase.GridSearch{<:IAIBase.Learner{<:IAIBase.PolicyTask}}, ::Union{AbstractDataFrame, AbstractMatrix{<:Real}}, \u001b[91m::Union{AbstractDataFrame, AbstractMatrix{<:Real}}\u001b[39m; sample_weight, kwargs...)\n\u001b[0m\u001b[90m   @\u001b[39m \u001b[33mIAIBase\u001b[39m \u001b[90m/Users/iai/builds/e7x1Q22r/0/InterpretableAI/SystemImage/SysImgBuilder/.julia/packages/IAIBase/KTDAt/src/\u001b[39m\u001b[90m\u001b[4mapi.jl:135\u001b[24m\u001b[39m\n\u001b[0m  fit!(::IAIBase.GridSearch{<:IAIBase.Learner{<:IAIBase.PolicyTask}}, ::Union{AbstractDataFrame, AbstractMatrix{<:Real}}, \u001b[91m::Union{AbstractDataFrame, AbstractMatrix{<:Real}}\u001b[39m, \u001b[91m::Union{AbstractDataFrame, AbstractMatrix{<:Real}}\u001b[39m, \u001b[91m::Union{AbstractDataFrame, AbstractMatrix{<:Real}}\u001b[39m; sample_weight, kwargs...)\n\u001b[0m\u001b[90m   @\u001b[39m \u001b[33mIAIBase\u001b[39m \u001b[90m/Users/iai/builds/e7x1Q22r/0/InterpretableAI/SystemImage/SysImgBuilder/.julia/packages/IAIBase/KTDAt/src/\u001b[39m\u001b[90m\u001b[4mapi.jl:95\u001b[24m\u001b[39m\n\u001b[0m  fit!(\u001b[91m::IAIBase.GridSearch{<:IAIBase.Learner{<:IAIBase.PrescriptionTask}}\u001b[39m, ::Union{AbstractDataFrame, AbstractMatrix{<:Real}}, \u001b[91m::AbstractVector\u001b[39m, \u001b[91m::AbstractVector\u001b[39m; sample_weight, kwargs...)\n\u001b[0m\u001b[90m   @\u001b[39m \u001b[33mIAIBase\u001b[39m \u001b[90m/Users/iai/builds/e7x1Q22r/0/InterpretableAI/SystemImage/SysImgBuilder/.julia/packages/IAIBase/KTDAt/src/\u001b[39m\u001b[90m\u001b[4mapi.jl:135\u001b[24m\u001b[39m\n\u001b[0m  ...\n",
      "",
      "Stacktrace:",
      " [1] top-level scope",
      "   @ In[76]:7"
     ]
    }
   ],
   "source": [
    "categorical_policy_grid = IAI.GridSearch(\n",
    "    IAI.OptimalTreePolicyMinimizer(\n",
    "      random_seed=seed,\n",
    "    ),\n",
    "    max_depth=1:5,\n",
    ")\n",
    "IAI.fit!(categorical_policy_grid, train_X, train_reward_score)"
   ]
  },
  {
   "cell_type": "code",
   "execution_count": null,
   "id": "e68243ce-ac6f-4056-b7ec-0449c72393c0",
   "metadata": {},
   "outputs": [],
   "source": []
  }
 ],
 "metadata": {
  "kernelspec": {
   "display_name": "Julia 1.9.2",
   "language": "julia",
   "name": "julia-1.9"
  },
  "language_info": {
   "file_extension": ".jl",
   "mimetype": "application/julia",
   "name": "julia",
   "version": "1.9.3"
  }
 },
 "nbformat": 4,
 "nbformat_minor": 5
}
