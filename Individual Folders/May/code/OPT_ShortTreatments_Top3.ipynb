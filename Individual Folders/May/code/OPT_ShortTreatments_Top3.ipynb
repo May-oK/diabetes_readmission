{
 "cells": [
  {
   "cell_type": "code",
   "execution_count": 1,
   "id": "e4655e34-ea26-483e-8d79-25fbbaae4e10",
   "metadata": {},
   "outputs": [],
   "source": [
    "using CSV, DataFrames, CategoricalArrays\n",
    "using Statistics\n",
    "using CategoricalArrays"
   ]
  },
  {
   "cell_type": "markdown",
   "id": "90e19a24-3cdb-49e9-ac00-92789750f0b8",
   "metadata": {},
   "source": [
    "# Top 3"
   ]
  },
  {
   "cell_type": "code",
   "execution_count": 76,
   "id": "f31403b4-5947-4d98-a3cf-ed860ba207ec",
   "metadata": {},
   "outputs": [],
   "source": [
    "train_grouped = CSV.read(\"Training_Filtered_top3_short.csv\", DataFrame)\n",
    "test_grouped = CSV.read(\"Testing_Filtered_top3_short.csv\", DataFrame)\n",
    "\n",
    "train_grouped = train_grouped[:, 2:54]\n",
    "#30756 rows\n",
    "\n",
    "test_grouped = test_grouped[:, 2:54];\n",
    "#30819 rows"
   ]
  },
  {
   "cell_type": "code",
   "execution_count": 77,
   "id": "c64cab8b-8a33-46bd-966d-fcc6bf5a1b07",
   "metadata": {},
   "outputs": [],
   "source": [
    "train_X = train_grouped[:,1:52]\n",
    "train_y = train_grouped[:,53];\n"
   ]
  },
  {
   "cell_type": "code",
   "execution_count": 78,
   "id": "37e08142-6398-42b2-ba14-c4e9aabf2019",
   "metadata": {},
   "outputs": [],
   "source": [
    "test_X = test_grouped[:,1:52]\n",
    "test_y = test_grouped[:,53];\n"
   ]
  },
  {
   "cell_type": "markdown",
   "id": "be32da0b-0008-42c5-9aea-74bf3bb67858",
   "metadata": {},
   "source": [
    "## Specify treatments"
   ]
  },
  {
   "cell_type": "code",
   "execution_count": 79,
   "id": "c3294388-518a-480b-b9f0-1edbc2720089",
   "metadata": {},
   "outputs": [],
   "source": [
    "treatment_cols =  [\"med_count_1\", \"med_count_2\", \"med_count_3\", \"med_count_4\", \"med_count_5\", \"med_count_6\"];\n",
    "\n",
    "excluded_cols = [:med_count_1, :med_count_2, :med_count_3, \n",
    "                 :med_count_4, :med_count_5, :med_count_6, :readmitted];"
   ]
  },
  {
   "cell_type": "code",
   "execution_count": 80,
   "id": "5575ac7a-a193-45a8-8eb0-8ee3a5b1563f",
   "metadata": {},
   "outputs": [],
   "source": [
    "# Select only feature columns for train and test sets\n",
    "train_X = select(train_grouped, Not(excluded_cols))\n",
    "test_X = select(test_grouped, Not(excluded_cols));"
   ]
  },
  {
   "cell_type": "code",
   "execution_count": 81,
   "id": "82a0720b-04b7-40aa-b116-07ed0e27bc13",
   "metadata": {},
   "outputs": [],
   "source": [
    "# Extract only treatment columns for train and test sets\n",
    "treatments_train = select(train_grouped, treatment_cols)\n",
    "treatments_test = select(test_grouped, treatment_cols);"
   ]
  },
  {
   "cell_type": "code",
   "execution_count": 82,
   "id": "10054308-b46a-4b85-a675-f1c3ecdd75e3",
   "metadata": {},
   "outputs": [],
   "source": [
    "train_T_categorical = string.(\"[\", treatments_train.med_count_1, \",\", treatments_train.med_count_2, \",\", \n",
    "    treatments_train.med_count_3,\",\",treatments_train.med_count_4, \",\",treatments_train.med_count_5,\",\",\n",
    "    treatments_train.med_count_6, \"]\")\n",
    "\n",
    "test_T_categorical = string.(\"[\", treatments_test.med_count_1, \",\", treatments_test.med_count_2, \",\", \n",
    "    treatments_test.med_count_3,\",\",treatments_test.med_count_4, \",\",treatments_test.med_count_5,\",\",\n",
    "    treatments_test.med_count_6, \"]\");\n"
   ]
  },
  {
   "cell_type": "code",
   "execution_count": 83,
   "id": "61c6ea1f-14c2-4423-999d-b5d6a0800d97",
   "metadata": {},
   "outputs": [],
   "source": [
    "# Extract the outcome variable\n",
    "train_y = train_grouped[:, :readmitted]\n",
    "test_y = test_grouped[:, :readmitted];"
   ]
  },
  {
   "cell_type": "markdown",
   "id": "9613a9e3-3535-4cae-ae48-336b47c8966e",
   "metadata": {},
   "source": [
    "## Optimal Policy Trees"
   ]
  },
  {
   "cell_type": "code",
   "execution_count": 84,
   "id": "cce5a967-5528-459e-a1f6-cd8908ec40d5",
   "metadata": {},
   "outputs": [
    {
     "data": {
      "text/plain": [
       "Unfitted CategoricalClassificationRewardEstimator:\n",
       "  propensity_estimator: Unfitted RandomForestClassifier:\n",
       "    random_seed: 42\n",
       "  outcome_estimator:    Unfitted RandomForestClassifier:\n",
       "    random_seed: 42\n",
       "  reward_estimator:     doubly_robust\n",
       "  random_seed:          42"
      ]
     },
     "execution_count": 84,
     "metadata": {},
     "output_type": "execute_result"
    }
   ],
   "source": [
    "seed=42\n",
    "\n",
    "categorical_reward_lnr = IAI.CategoricalClassificationRewardEstimator(\n",
    "    propensity_estimator=IAI.RandomForestClassifier(random_seed=seed),\n",
    "    outcome_estimator=IAI.RandomForestClassifier(random_seed=seed),\n",
    "    reward_estimator=:doubly_robust,\n",
    "    random_seed=seed,\n",
    ")"
   ]
  },
  {
   "cell_type": "markdown",
   "id": "1e80d3ad-5585-45f6-b2eb-137e442829f2",
   "metadata": {},
   "source": [
    "### Training Set"
   ]
  },
  {
   "cell_type": "code",
   "execution_count": 85,
   "id": "b7558aba-b38a-40c0-af04-ff9c2071ef06",
   "metadata": {},
   "outputs": [
    {
     "data": {
      "text/plain": [
       "Dict{String, Float64} with 3 entries:\n",
       "  \"[0,0,0,0,0,0]\" => 0.0885725\n",
       "  \"[0,1,0,0,0,0]\" => 0.0558424\n",
       "  \"[0,0,0,0,0,1]\" => 0.077174"
      ]
     },
     "execution_count": 85,
     "metadata": {},
     "output_type": "execute_result"
    }
   ],
   "source": [
    "train_predictions, train_reward_score = IAI.fit_predict!(\n",
    "    categorical_reward_lnr, train_X, train_T_categorical, train_y)\n",
    "\n",
    "train_rewards = train_predictions[:reward]\n",
    "train_reward_score[:outcome]\n"
   ]
  },
  {
   "cell_type": "code",
   "execution_count": 86,
   "id": "0f0bfdf8-b474-4a5b-81a0-f90c43f615d9",
   "metadata": {},
   "outputs": [
    {
     "data": {
      "text/plain": [
       "0.5089521853665767"
      ]
     },
     "execution_count": 86,
     "metadata": {},
     "output_type": "execute_result"
    }
   ],
   "source": [
    "train_reward_score[:propensity]\n",
    "#If outcomes are good, and propsity is bad--> can go ahead "
   ]
  },
  {
   "cell_type": "markdown",
   "id": "5bdbc2e7-aa72-46de-ad5a-64d049ee38c4",
   "metadata": {},
   "source": [
    "### Testing Set"
   ]
  },
  {
   "cell_type": "code",
   "execution_count": 87,
   "id": "e68243ce-ac6f-4056-b7ec-0449c72393c0",
   "metadata": {},
   "outputs": [
    {
     "data": {
      "text/plain": [
       "Dict{String, Float64} with 3 entries:\n",
       "  \"[0,0,0,0,0,0]\" => 0.0851641\n",
       "  \"[0,1,0,0,0,0]\" => 0.0672116\n",
       "  \"[0,0,0,0,0,1]\" => 0.0811282"
      ]
     },
     "execution_count": 87,
     "metadata": {},
     "output_type": "execute_result"
    }
   ],
   "source": [
    "test_predictions, test_reward_score = IAI.fit_predict!(\n",
    "    categorical_reward_lnr, test_X, test_T_categorical, test_y)\n",
    "\n",
    "test_rewards = test_predictions[:reward]\n",
    "test_reward_score[:outcome]"
   ]
  },
  {
   "cell_type": "code",
   "execution_count": 88,
   "id": "e80070c8-4112-41ce-8073-b2dbf6100462",
   "metadata": {},
   "outputs": [
    {
     "data": {
      "text/plain": [
       "0.5013239080233148"
      ]
     },
     "execution_count": 88,
     "metadata": {},
     "output_type": "execute_result"
    }
   ],
   "source": [
    "test_reward_score[:propensity]\n"
   ]
  }
 ],
 "metadata": {
  "kernelspec": {
   "display_name": "Julia (IAI_1) 1.9.3",
   "language": "julia",
   "name": "julia-_iai_1_-1.9"
  },
  "language_info": {
   "file_extension": ".jl",
   "mimetype": "application/julia",
   "name": "julia",
   "version": "1.9.3"
  }
 },
 "nbformat": 4,
 "nbformat_minor": 5
}
